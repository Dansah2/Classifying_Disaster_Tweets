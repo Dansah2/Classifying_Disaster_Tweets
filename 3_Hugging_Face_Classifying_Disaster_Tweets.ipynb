{
  "cells": [
    {
      "cell_type": "markdown",
      "metadata": {
        "id": "6NWrKiQ4fRGS"
      },
      "source": [
        "# Classifying Disaster Tweets"
      ]
    },
    {
      "cell_type": "markdown",
      "metadata": {
        "id": "tf6F6FaOB0dQ"
      },
      "source": [
        "Kaggle Dataset Download API Command:\n",
        "\n",
        "kaggle competitions download -c nlp-getting-started"
      ]
    },
    {
      "cell_type": "markdown",
      "metadata": {
        "id": "RXlEc616CFtt"
      },
      "source": [
        "I will classify a tweet as either a 'Disaster Tweet' or 'Non-Disaster Tweet'."
      ]
    },
    {
      "cell_type": "markdown",
      "metadata": {
        "id": "aEHxmjhghVvK"
      },
      "source": [
        "##Project Outline:\n",
        "\n",
        "1) Download the dataset\n",
        "\n",
        "2) Explore/Analyze the data\n",
        "\n",
        "3) Preprocess and organize the data\n",
        "\n",
        "4) Classify using Vader\n",
        "\n",
        "5) Classify using Bag of Words\n",
        "\n",
        "6) Classify using Hugging Face"
      ]
    },
    {
      "cell_type": "markdown",
      "metadata": {
        "id": "JqdmA7kIfkiE"
      },
      "source": [
        "## Download the Dataset\n",
        "\n",
        "1) Install required libraries\n",
        "\n",
        "2) Import required libraries\n",
        "\n",
        "3) Upload Data from Google Drive\n"
      ]
    },
    {
      "cell_type": "markdown",
      "metadata": {
        "id": "khuyKRt5FkpA"
      },
      "source": [
        "#### Install Required Libraries"
      ]
    },
    {
      "cell_type": "code",
      "execution_count": 7,
      "metadata": {
        "id": "sDyjJqSZFwvL"
      },
      "outputs": [],
      "source": [
        "!pip install scikit-learn numpy transformers datasets > /dev/null 2>&1"
      ]
    },
    {
      "cell_type": "markdown",
      "metadata": {
        "id": "6ylR8aSxIbKf"
      },
      "source": [
        "#### Import Required Libraries"
      ]
    },
    {
      "cell_type": "code",
      "execution_count": 13,
      "metadata": {
        "id": "Ie0d0NTZfd4E"
      },
      "outputs": [],
      "source": [
        "# handeling data\n",
        "import numpy as np\n",
        "import pandas as pd\n",
        "\n",
        "# graphing data\n",
        "pd.options.plotting.backend = \"plotly\"\n",
        "import plotly.graph_objects as go\n",
        "\n",
        "# downloading data\n",
        "from google.colab import drive\n",
        "\n",
        "# splitting data\n",
        "from sklearn.model_selection import train_test_split\n",
        "\n",
        "# training the data\n",
        "import tensorflow as tf\n",
        "from transformers import AutoTokenizer, TFAutoModelForSequenceClassification\n",
        "\n",
        "# suppress warnings\n",
        "import warnings\n",
        "import os\n",
        "import logging\n",
        "from transformers import logging as hf_logging\n",
        "\n",
        "# Suppress TensorFlow warnings\n",
        "os.environ['TF_CPP_MIN_LOG_LEVEL'] = '3'  # 0 = all logs, 3 = only errors\n",
        "tf.get_logger().setLevel(logging.ERROR)\n",
        "\n",
        "# Suppress HuggingFace Transformers warnings\n",
        "hf_logging.set_verbosity_error()\n",
        "\n",
        "# Suppress the specific Hugging Face warning\n",
        "warnings.filterwarnings(\"ignore\")"
      ]
    },
    {
      "cell_type": "markdown",
      "source": [
        "####Upload Data from Google Drive"
      ],
      "metadata": {
        "id": "p1uPJGKx9Fzo"
      }
    },
    {
      "cell_type": "code",
      "execution_count": 9,
      "metadata": {
        "id": "BbeUxY8jQlaw",
        "colab": {
          "base_uri": "https://localhost:8080/"
        },
        "outputId": "31b54bb8-e7d9-4cc9-b8c1-714b52596efc"
      },
      "outputs": [
        {
          "output_type": "stream",
          "name": "stdout",
          "text": [
            "Mounted at /content/drive\n"
          ]
        }
      ],
      "source": [
        "# Mount google drive to store Kaggle API for future use\n",
        "drive.mount('/content/drive')"
      ]
    },
    {
      "cell_type": "code",
      "source": [
        "# read in the data\n",
        "HF_train = pd.read_csv('/content/drive/My Drive/ucla.edu_folder/Disaster_Tweets/train_df.csv').copy()\n",
        "HF_test = pd.read_csv('/content/drive/My Drive/ucla.edu_folder/Disaster_Tweets/test_df.csv').copy()"
      ],
      "metadata": {
        "id": "_qP7jsZpWPyf"
      },
      "execution_count": 10,
      "outputs": []
    },
    {
      "cell_type": "markdown",
      "source": [
        "##**Find Sentiment with Hugging Face**\n",
        "\n",
        "https://blog.tensorflow.org/2019/11/hugging-face-state-of-art-natural.html"
      ],
      "metadata": {
        "id": "r1G-mEnCV3BH"
      }
    },
    {
      "cell_type": "markdown",
      "source": [
        "### Split / Preprocess Training and Testing Data"
      ],
      "metadata": {
        "id": "T635bLH201Xy"
      }
    },
    {
      "cell_type": "code",
      "execution_count": 11,
      "metadata": {
        "id": "gpkT2WKBHMwE",
        "colab": {
          "base_uri": "https://localhost:8080/"
        },
        "outputId": "b511431b-3766-42ad-8a7c-bcc155e83d53"
      },
      "outputs": [
        {
          "output_type": "stream",
          "name": "stdout",
          "text": [
            "X_train: (6851, 1), X_valid: (762, 1), y_train: (6851,), y_valid: (762,)\n"
          ]
        }
      ],
      "source": [
        "# create a method that will split the data into training and testing sets\n",
        "def split_data_frame(data_frame, target, test_size, shuffle=True):\n",
        "  X = data_frame.drop(columns=target)\n",
        "  y = data_frame[target]\n",
        "  X_train, X_valid, y_train, y_valid = train_test_split(X,y, test_size=test_size, shuffle=shuffle)\n",
        "  print(f'X_train: {X_train.shape}, X_valid: {X_valid.shape}, y_train: {y_train.shape}, y_valid: {y_valid.shape}')\n",
        "  return X_train, X_valid, y_train, y_valid\n",
        "\n",
        "X_train, X_valid, y_train, y_valid = split_data_frame(data_frame=HF_train, target='target', test_size=0.10)"
      ]
    },
    {
      "cell_type": "code",
      "source": [
        "# tokenizer from a pretrained bert model\n",
        "tokenizer = AutoTokenizer.from_pretrained('bert-base-cased')\n",
        "\n",
        "# create a tokenizer method\n",
        "def tokenize_reviews(X_train, X_valid, y_train, y_valid, X_test):\n",
        "  # Tokenize the reviews\n",
        "  token_train_data = tokenizer(X_train['text'].to_list(), return_tensors='np', padding=True)\n",
        "  token_valid_data = tokenizer(X_valid['text'].to_list(), return_tensors='np', padding=True)\n",
        "  token_test_data = tokenizer(X_test['text'].to_list(), return_tensors='np', padding=True)\n",
        "\n",
        "  # convert labels to a numpy array\n",
        "  train_labels = np.array(y_train)\n",
        "  valid_labels = np.array(y_valid)\n",
        "\n",
        "  return token_train_data, token_valid_data, train_labels, valid_labels, token_test_data"
      ],
      "metadata": {
        "id": "6PZgUPneDKE7"
      },
      "execution_count": 14,
      "outputs": []
    },
    {
      "cell_type": "code",
      "source": [
        "token_train_data, token_valid_data, train_labels, valid_labels, token_test_data = tokenize_reviews(X_train, X_valid, y_train, y_valid, HF_test)"
      ],
      "metadata": {
        "id": "9luc9R8TK7U4"
      },
      "execution_count": null,
      "outputs": []
    },
    {
      "cell_type": "code",
      "source": [
        "token_train_data['input_ids'][0]"
      ],
      "metadata": {
        "id": "uKeZQEQxHtGY",
        "colab": {
          "base_uri": "https://localhost:8080/"
        },
        "outputId": "040a4994-7721-41b4-955d-6d9026c484c7"
      },
      "execution_count": null,
      "outputs": [
        {
          "output_type": "execute_result",
          "data": {
            "text/plain": [
              "array([  101,  9294,  3048, 24819,   143,  2591,  2428, 19556, 15609,\n",
              "       14962,  2240,   141,  9949, 15681,   156, 19556, 23314, 17145,\n",
              "        7462, 10997,  9244, 12507, 24772, 12649,   139, 22027, 16830,\n",
              "        2346,   143, 27073, 15928,   145,  9565, 20595, 13360,  2036,\n",
              "        1139,  2869,  2298,  1139,  4329,  1766,  2027,   102,     0,\n",
              "           0,     0,     0,     0,     0,     0,     0,     0,     0,\n",
              "           0,     0,     0,     0,     0,     0,     0,     0,     0,\n",
              "           0,     0,     0,     0,     0,     0,     0,     0,     0,\n",
              "           0,     0])"
            ]
          },
          "metadata": {},
          "execution_count": 14
        }
      ]
    },
    {
      "cell_type": "code",
      "source": [
        "token_test_data['input_ids'][0]"
      ],
      "metadata": {
        "id": "ai8X-CFARB86",
        "colab": {
          "base_uri": "https://localhost:8080/"
        },
        "outputId": "3a0d45d0-062c-4135-8867-85545bf34f22"
      },
      "execution_count": null,
      "outputs": [
        {
          "output_type": "execute_result",
          "data": {
            "text/plain": [
              "array([ 101, 2066, 2171,  170, 6434, 1610, 5683,  102,    0,    0,    0,\n",
              "          0,    0,    0,    0,    0,    0,    0,    0,    0,    0,    0,\n",
              "          0,    0,    0,    0,    0,    0,    0,    0,    0,    0,    0,\n",
              "          0,    0,    0,    0,    0,    0,    0,    0,    0,    0,    0,\n",
              "          0,    0,    0,    0,    0,    0,    0,    0,    0,    0,    0,\n",
              "          0,    0,    0,    0,    0,    0,    0,    0,    0,    0,    0,\n",
              "          0,    0,    0,    0,    0,    0,    0,    0,    0,    0])"
            ]
          },
          "metadata": {},
          "execution_count": 15
        }
      ]
    },
    {
      "cell_type": "markdown",
      "metadata": {
        "id": "3xKjauG5LsEA"
      },
      "source": [
        "## Create and Train baseline model\n",
        "1) Create the model\n",
        "\n",
        "2) Compile the model\n",
        "\n",
        "3) Train the model\n",
        "\n",
        "4) Save the Model\n",
        "\n",
        "5) Plot Training Accuracy / Loss"
      ]
    },
    {
      "cell_type": "markdown",
      "source": [
        "### Create the model"
      ],
      "metadata": {
        "id": "31iX_xj35by1"
      }
    },
    {
      "cell_type": "code",
      "execution_count": null,
      "metadata": {
        "id": "qWVBVI5iIMWD"
      },
      "outputs": [],
      "source": [
        "# create a method to load the pre-trained model\n",
        "def load_pre_trained_model(model_name, NUM_LABELS):\n",
        "  # load the pretrained model 'bert-base-cased'\n",
        "  model = TFAutoModelForSequenceClassification.from_pretrained(model_name, num_labels=NUM_LABELS)\n",
        "\n",
        "  return model"
      ]
    },
    {
      "cell_type": "code",
      "source": [
        "model = load_pre_trained_model('bert-base-cased', 2)"
      ],
      "metadata": {
        "id": "MPdFsekRLP-4",
        "colab": {
          "base_uri": "https://localhost:8080/",
          "height": 49,
          "referenced_widgets": [
            "6573ef223103408a8025bb9255c5f1b4",
            "d9a26bf0c2364f109b3a3a83c441a176",
            "77d9df85e06648dc99aa077cdbf1db02",
            "c663e763c3c841f5a13ef349420995c1",
            "48b86115dccf4401a15f068961fedea8",
            "5592c00d8fda4d8eb56f1c2e5a1342ff",
            "b2de4c584ab048c0988b20fe13edfa1c",
            "16116db105f549ccbdee447609cf1588",
            "0daae12cf29e43da84240bd52a8349d0",
            "882dd9c2cc014905834de037d1fa82cd",
            "3a669d71c8ec4356a6a21df2ddcd7a43"
          ]
        },
        "outputId": "4d327e7a-3354-4373-e829-62ed00612b63"
      },
      "execution_count": null,
      "outputs": [
        {
          "output_type": "display_data",
          "data": {
            "text/plain": [
              "model.safetensors:   0%|          | 0.00/436M [00:00<?, ?B/s]"
            ],
            "application/vnd.jupyter.widget-view+json": {
              "version_major": 2,
              "version_minor": 0,
              "model_id": "6573ef223103408a8025bb9255c5f1b4"
            }
          },
          "metadata": {}
        }
      ]
    },
    {
      "cell_type": "markdown",
      "source": [
        "### Compile the model"
      ],
      "metadata": {
        "id": "OscRzWXF5gQe"
      }
    },
    {
      "cell_type": "code",
      "source": [
        "# create a method to create the loss and compile the model\n",
        "def loss_and_compile(model):\n",
        "  # create the loss\n",
        "  loss = tf.keras.losses.SparseCategoricalCrossentropy(filter)\n",
        "\n",
        "  # compile the model\n",
        "  model.compile(optimizer=tf.keras.optimizers.Adam(5e-6), loss=loss, metrics=['accuracy'])\n",
        "\n",
        "  return model"
      ],
      "metadata": {
        "id": "uguw9ogZ5j-1"
      },
      "execution_count": null,
      "outputs": []
    },
    {
      "cell_type": "code",
      "source": [
        "model_1 = loss_and_compile(model)"
      ],
      "metadata": {
        "id": "q2PDq3D3Lkpf"
      },
      "execution_count": null,
      "outputs": []
    },
    {
      "cell_type": "markdown",
      "source": [
        "### Train the model"
      ],
      "metadata": {
        "id": "degOMgGr6eni"
      }
    },
    {
      "cell_type": "code",
      "source": [
        "# create a method to train the model\n",
        "def fit_model(model, BATCH_SIZE, EPOCHS, train_data, train_labels, val_data, val_labels):\n",
        "  # fit the model\n",
        "  history = model.fit(dict(train_data),\n",
        "            train_labels,\n",
        "            validation_data=(dict(val_data), val_labels),\n",
        "            batch_size=BATCH_SIZE,\n",
        "            epochs=EPOCHS)\n",
        "\n",
        "  return model, history"
      ],
      "metadata": {
        "id": "C8MInrPf6dL2"
      },
      "execution_count": null,
      "outputs": []
    },
    {
      "cell_type": "code",
      "source": [
        "model, history = fit_model(model_1, 64, 100, token_train_data, train_labels, token_valid_data, valid_labels)"
      ],
      "metadata": {
        "id": "2ElOFEKJL7nK",
        "colab": {
          "base_uri": "https://localhost:8080/"
        },
        "outputId": "a4d276f7-2913-43cf-cc99-846cada104e0"
      },
      "execution_count": null,
      "outputs": [
        {
          "output_type": "stream",
          "name": "stdout",
          "text": [
            "Epoch 1/100\n",
            "108/108 [==============================] - 175s 1s/step - loss: 0.5483 - accuracy: 0.7365 - val_loss: 0.4349 - val_accuracy: 0.8294\n",
            "Epoch 2/100\n",
            "108/108 [==============================] - 107s 992ms/step - loss: 0.4209 - accuracy: 0.8244 - val_loss: 0.3929 - val_accuracy: 0.8320\n",
            "Epoch 3/100\n",
            "108/108 [==============================] - 107s 992ms/step - loss: 0.3739 - accuracy: 0.8483 - val_loss: 0.3864 - val_accuracy: 0.8360\n",
            "Epoch 4/100\n",
            "108/108 [==============================] - 107s 994ms/step - loss: 0.3349 - accuracy: 0.8720 - val_loss: 0.4144 - val_accuracy: 0.8176\n",
            "Epoch 5/100\n",
            "108/108 [==============================] - 107s 995ms/step - loss: 0.3045 - accuracy: 0.8847 - val_loss: 0.4237 - val_accuracy: 0.8255\n",
            "Epoch 6/100\n",
            "108/108 [==============================] - 106s 984ms/step - loss: 0.2767 - accuracy: 0.9005 - val_loss: 0.4154 - val_accuracy: 0.8425\n",
            "Epoch 7/100\n",
            "108/108 [==============================] - 106s 980ms/step - loss: 0.2471 - accuracy: 0.9139 - val_loss: 0.4334 - val_accuracy: 0.8360\n",
            "Epoch 8/100\n",
            "108/108 [==============================] - 106s 979ms/step - loss: 0.2188 - accuracy: 0.9264 - val_loss: 0.4548 - val_accuracy: 0.8373\n",
            "Epoch 9/100\n",
            "108/108 [==============================] - 107s 990ms/step - loss: 0.1941 - accuracy: 0.9342 - val_loss: 0.4703 - val_accuracy: 0.8281\n",
            "Epoch 10/100\n",
            "108/108 [==============================] - 107s 993ms/step - loss: 0.1723 - accuracy: 0.9438 - val_loss: 0.5138 - val_accuracy: 0.8097\n",
            "Epoch 11/100\n",
            "108/108 [==============================] - 108s 996ms/step - loss: 0.1586 - accuracy: 0.9495 - val_loss: 0.5397 - val_accuracy: 0.8307\n",
            "Epoch 12/100\n",
            "108/108 [==============================] - 107s 994ms/step - loss: 0.1393 - accuracy: 0.9553 - val_loss: 0.5687 - val_accuracy: 0.8150\n",
            "Epoch 13/100\n",
            "108/108 [==============================] - 107s 995ms/step - loss: 0.1229 - accuracy: 0.9603 - val_loss: 0.6048 - val_accuracy: 0.8058\n",
            "Epoch 14/100\n",
            "108/108 [==============================] - 107s 992ms/step - loss: 0.1105 - accuracy: 0.9632 - val_loss: 0.6111 - val_accuracy: 0.8136\n",
            "Epoch 15/100\n",
            "108/108 [==============================] - 106s 980ms/step - loss: 0.0975 - accuracy: 0.9675 - val_loss: 0.6372 - val_accuracy: 0.8071\n",
            "Epoch 16/100\n",
            "108/108 [==============================] - 107s 992ms/step - loss: 0.0926 - accuracy: 0.9682 - val_loss: 0.6631 - val_accuracy: 0.8045\n",
            "Epoch 17/100\n",
            "108/108 [==============================] - 107s 994ms/step - loss: 0.0752 - accuracy: 0.9743 - val_loss: 0.6885 - val_accuracy: 0.8058\n",
            "Epoch 18/100\n",
            "108/108 [==============================] - 107s 994ms/step - loss: 0.0655 - accuracy: 0.9796 - val_loss: 0.7352 - val_accuracy: 0.8084\n",
            "Epoch 19/100\n",
            "108/108 [==============================] - 107s 989ms/step - loss: 0.0660 - accuracy: 0.9762 - val_loss: 0.7602 - val_accuracy: 0.8097\n",
            "Epoch 20/100\n",
            "108/108 [==============================] - 107s 991ms/step - loss: 0.0625 - accuracy: 0.9797 - val_loss: 0.7801 - val_accuracy: 0.8045\n",
            "Epoch 21/100\n",
            "108/108 [==============================] - 107s 995ms/step - loss: 0.0546 - accuracy: 0.9815 - val_loss: 0.7776 - val_accuracy: 0.8189\n",
            "Epoch 22/100\n",
            "108/108 [==============================] - 107s 991ms/step - loss: 0.0525 - accuracy: 0.9816 - val_loss: 0.7640 - val_accuracy: 0.8215\n",
            "Epoch 23/100\n",
            "108/108 [==============================] - 107s 993ms/step - loss: 0.0459 - accuracy: 0.9837 - val_loss: 0.7810 - val_accuracy: 0.8176\n",
            "Epoch 24/100\n",
            "108/108 [==============================] - 107s 993ms/step - loss: 0.0412 - accuracy: 0.9867 - val_loss: 0.8037 - val_accuracy: 0.8163\n",
            "Epoch 25/100\n",
            "108/108 [==============================] - 106s 982ms/step - loss: 0.0427 - accuracy: 0.9842 - val_loss: 0.8019 - val_accuracy: 0.8084\n",
            "Epoch 26/100\n",
            "108/108 [==============================] - 107s 989ms/step - loss: 0.0394 - accuracy: 0.9874 - val_loss: 0.7798 - val_accuracy: 0.8176\n",
            "Epoch 27/100\n",
            "108/108 [==============================] - 107s 988ms/step - loss: 0.0327 - accuracy: 0.9885 - val_loss: 0.8580 - val_accuracy: 0.7979\n",
            "Epoch 28/100\n",
            "108/108 [==============================] - 106s 984ms/step - loss: 0.0331 - accuracy: 0.9882 - val_loss: 0.8776 - val_accuracy: 0.8045\n",
            "Epoch 29/100\n",
            "108/108 [==============================] - 107s 995ms/step - loss: 0.0313 - accuracy: 0.9882 - val_loss: 0.8592 - val_accuracy: 0.8097\n",
            "Epoch 30/100\n",
            "108/108 [==============================] - 107s 991ms/step - loss: 0.0302 - accuracy: 0.9882 - val_loss: 0.8914 - val_accuracy: 0.8058\n",
            "Epoch 31/100\n",
            "108/108 [==============================] - 107s 994ms/step - loss: 0.0270 - accuracy: 0.9892 - val_loss: 0.9166 - val_accuracy: 0.8058\n",
            "Epoch 32/100\n",
            "108/108 [==============================] - 108s 997ms/step - loss: 0.0293 - accuracy: 0.9889 - val_loss: 0.9422 - val_accuracy: 0.8031\n",
            "Epoch 33/100\n",
            "108/108 [==============================] - 106s 984ms/step - loss: 0.0289 - accuracy: 0.9886 - val_loss: 0.9040 - val_accuracy: 0.8150\n",
            "Epoch 34/100\n",
            "108/108 [==============================] - 106s 983ms/step - loss: 0.0262 - accuracy: 0.9904 - val_loss: 0.9165 - val_accuracy: 0.8189\n",
            "Epoch 35/100\n",
            "108/108 [==============================] - 106s 978ms/step - loss: 0.0180 - accuracy: 0.9931 - val_loss: 0.9184 - val_accuracy: 0.8202\n",
            "Epoch 36/100\n",
            "108/108 [==============================] - 106s 986ms/step - loss: 0.0199 - accuracy: 0.9924 - val_loss: 0.9412 - val_accuracy: 0.8110\n",
            "Epoch 37/100\n",
            "108/108 [==============================] - 106s 984ms/step - loss: 0.0163 - accuracy: 0.9949 - val_loss: 0.9482 - val_accuracy: 0.8058\n",
            "Epoch 38/100\n",
            "108/108 [==============================] - 107s 995ms/step - loss: 0.0262 - accuracy: 0.9893 - val_loss: 0.9311 - val_accuracy: 0.8097\n",
            "Epoch 39/100\n",
            "108/108 [==============================] - 106s 986ms/step - loss: 0.0178 - accuracy: 0.9924 - val_loss: 0.9728 - val_accuracy: 0.8071\n",
            "Epoch 40/100\n",
            "108/108 [==============================] - 107s 995ms/step - loss: 0.0192 - accuracy: 0.9921 - val_loss: 0.9638 - val_accuracy: 0.8071\n",
            "Epoch 41/100\n",
            "108/108 [==============================] - 107s 993ms/step - loss: 0.0180 - accuracy: 0.9934 - val_loss: 0.9949 - val_accuracy: 0.8018\n",
            "Epoch 42/100\n",
            "108/108 [==============================] - 107s 994ms/step - loss: 0.0197 - accuracy: 0.9915 - val_loss: 0.9193 - val_accuracy: 0.8228\n",
            "Epoch 43/100\n",
            "108/108 [==============================] - 107s 993ms/step - loss: 0.0193 - accuracy: 0.9917 - val_loss: 0.9428 - val_accuracy: 0.8228\n",
            "Epoch 44/100\n",
            "108/108 [==============================] - 107s 994ms/step - loss: 0.0159 - accuracy: 0.9936 - val_loss: 1.0884 - val_accuracy: 0.7992\n",
            "Epoch 45/100\n",
            "108/108 [==============================] - 107s 991ms/step - loss: 0.0177 - accuracy: 0.9934 - val_loss: 0.9732 - val_accuracy: 0.8294\n",
            "Epoch 46/100\n",
            "108/108 [==============================] - 106s 985ms/step - loss: 0.0147 - accuracy: 0.9949 - val_loss: 0.9897 - val_accuracy: 0.8255\n",
            "Epoch 47/100\n",
            "108/108 [==============================] - 106s 982ms/step - loss: 0.0145 - accuracy: 0.9937 - val_loss: 1.0156 - val_accuracy: 0.8136\n",
            "Epoch 48/100\n",
            "108/108 [==============================] - 107s 991ms/step - loss: 0.0167 - accuracy: 0.9937 - val_loss: 1.0091 - val_accuracy: 0.8163\n",
            "Epoch 49/100\n",
            "108/108 [==============================] - 107s 991ms/step - loss: 0.0111 - accuracy: 0.9950 - val_loss: 1.0647 - val_accuracy: 0.8097\n",
            "Epoch 50/100\n",
            "108/108 [==============================] - 107s 992ms/step - loss: 0.0129 - accuracy: 0.9945 - val_loss: 1.0485 - val_accuracy: 0.8241\n",
            "Epoch 51/100\n",
            "108/108 [==============================] - 107s 995ms/step - loss: 0.0217 - accuracy: 0.9936 - val_loss: 1.0508 - val_accuracy: 0.8110\n",
            "Epoch 52/100\n",
            "108/108 [==============================] - 107s 990ms/step - loss: 0.0129 - accuracy: 0.9949 - val_loss: 1.0381 - val_accuracy: 0.8163\n",
            "Epoch 53/100\n",
            "108/108 [==============================] - 106s 982ms/step - loss: 0.0162 - accuracy: 0.9933 - val_loss: 1.0539 - val_accuracy: 0.8031\n",
            "Epoch 54/100\n",
            "108/108 [==============================] - 107s 994ms/step - loss: 0.0153 - accuracy: 0.9937 - val_loss: 1.0804 - val_accuracy: 0.8097\n",
            "Epoch 55/100\n",
            "108/108 [==============================] - 106s 984ms/step - loss: 0.0153 - accuracy: 0.9942 - val_loss: 1.2968 - val_accuracy: 0.7533\n",
            "Epoch 56/100\n",
            "108/108 [==============================] - 106s 985ms/step - loss: 0.0154 - accuracy: 0.9940 - val_loss: 1.0848 - val_accuracy: 0.8018\n",
            "Epoch 57/100\n",
            "108/108 [==============================] - 107s 991ms/step - loss: 0.0117 - accuracy: 0.9956 - val_loss: 1.0874 - val_accuracy: 0.8150\n",
            "Epoch 58/100\n",
            "108/108 [==============================] - 107s 994ms/step - loss: 0.0112 - accuracy: 0.9939 - val_loss: 1.1142 - val_accuracy: 0.8071\n",
            "Epoch 59/100\n",
            "108/108 [==============================] - 106s 980ms/step - loss: 0.0104 - accuracy: 0.9952 - val_loss: 1.1187 - val_accuracy: 0.8084\n",
            "Epoch 60/100\n",
            "108/108 [==============================] - 107s 989ms/step - loss: 0.0228 - accuracy: 0.9896 - val_loss: 1.0752 - val_accuracy: 0.8097\n",
            "Epoch 61/100\n",
            "108/108 [==============================] - 107s 989ms/step - loss: 0.0114 - accuracy: 0.9955 - val_loss: 1.1571 - val_accuracy: 0.7953\n",
            "Epoch 62/100\n",
            "108/108 [==============================] - 106s 984ms/step - loss: 0.0128 - accuracy: 0.9939 - val_loss: 1.1208 - val_accuracy: 0.8189\n",
            "Epoch 63/100\n",
            "108/108 [==============================] - 107s 990ms/step - loss: 0.0153 - accuracy: 0.9924 - val_loss: 1.2204 - val_accuracy: 0.7822\n",
            "Epoch 64/100\n",
            "108/108 [==============================] - 107s 990ms/step - loss: 0.0180 - accuracy: 0.9933 - val_loss: 1.1391 - val_accuracy: 0.7966\n",
            "Epoch 65/100\n",
            "108/108 [==============================] - 107s 991ms/step - loss: 0.0143 - accuracy: 0.9943 - val_loss: 1.1302 - val_accuracy: 0.8110\n",
            "Epoch 66/100\n",
            "108/108 [==============================] - 107s 992ms/step - loss: 0.0115 - accuracy: 0.9953 - val_loss: 1.1969 - val_accuracy: 0.7992\n",
            "Epoch 67/100\n",
            "108/108 [==============================] - 106s 982ms/step - loss: 0.0112 - accuracy: 0.9950 - val_loss: 1.1788 - val_accuracy: 0.7979\n",
            "Epoch 68/100\n",
            "108/108 [==============================] - 107s 990ms/step - loss: 0.0126 - accuracy: 0.9945 - val_loss: 1.1145 - val_accuracy: 0.8123\n",
            "Epoch 69/100\n",
            "108/108 [==============================] - 107s 990ms/step - loss: 0.0139 - accuracy: 0.9942 - val_loss: 1.1936 - val_accuracy: 0.7927\n",
            "Epoch 70/100\n",
            "108/108 [==============================] - 107s 993ms/step - loss: 0.0107 - accuracy: 0.9949 - val_loss: 1.0697 - val_accuracy: 0.8228\n",
            "Epoch 71/100\n",
            "108/108 [==============================] - 106s 981ms/step - loss: 0.0124 - accuracy: 0.9952 - val_loss: 1.1036 - val_accuracy: 0.8215\n",
            "Epoch 72/100\n",
            "108/108 [==============================] - 107s 991ms/step - loss: 0.0097 - accuracy: 0.9959 - val_loss: 1.1258 - val_accuracy: 0.8163\n",
            "Epoch 73/100\n",
            "108/108 [==============================] - 107s 990ms/step - loss: 0.0076 - accuracy: 0.9962 - val_loss: 1.1310 - val_accuracy: 0.8228\n",
            "Epoch 74/100\n",
            "108/108 [==============================] - 107s 990ms/step - loss: 0.0093 - accuracy: 0.9952 - val_loss: 1.1963 - val_accuracy: 0.7992\n",
            "Epoch 75/100\n",
            "108/108 [==============================] - 106s 980ms/step - loss: 0.0160 - accuracy: 0.9934 - val_loss: 1.0716 - val_accuracy: 0.8320\n",
            "Epoch 76/100\n",
            "108/108 [==============================] - 107s 990ms/step - loss: 0.0132 - accuracy: 0.9943 - val_loss: 1.1872 - val_accuracy: 0.8018\n",
            "Epoch 77/100\n",
            "108/108 [==============================] - 106s 983ms/step - loss: 0.0118 - accuracy: 0.9942 - val_loss: 1.1530 - val_accuracy: 0.8071\n",
            "Epoch 78/100\n",
            "108/108 [==============================] - 107s 990ms/step - loss: 0.0081 - accuracy: 0.9961 - val_loss: 1.2254 - val_accuracy: 0.7992\n",
            "Epoch 79/100\n",
            "108/108 [==============================] - 107s 995ms/step - loss: 0.0083 - accuracy: 0.9955 - val_loss: 1.1772 - val_accuracy: 0.8163\n",
            "Epoch 80/100\n",
            "108/108 [==============================] - 107s 991ms/step - loss: 0.0091 - accuracy: 0.9949 - val_loss: 1.2197 - val_accuracy: 0.7979\n",
            "Epoch 81/100\n",
            "108/108 [==============================] - 107s 990ms/step - loss: 0.0134 - accuracy: 0.9949 - val_loss: 1.2643 - val_accuracy: 0.7848\n",
            "Epoch 82/100\n",
            "108/108 [==============================] - 106s 982ms/step - loss: 0.0129 - accuracy: 0.9950 - val_loss: 1.1585 - val_accuracy: 0.8045\n",
            "Epoch 83/100\n",
            "108/108 [==============================] - 106s 980ms/step - loss: 0.0106 - accuracy: 0.9945 - val_loss: 1.1236 - val_accuracy: 0.8150\n",
            "Epoch 84/100\n",
            "108/108 [==============================] - 106s 982ms/step - loss: 0.0094 - accuracy: 0.9955 - val_loss: 1.1623 - val_accuracy: 0.8150\n",
            "Epoch 85/100\n",
            "108/108 [==============================] - 107s 988ms/step - loss: 0.0083 - accuracy: 0.9959 - val_loss: 1.1575 - val_accuracy: 0.8241\n",
            "Epoch 86/100\n",
            "108/108 [==============================] - 106s 983ms/step - loss: 0.0072 - accuracy: 0.9955 - val_loss: 1.1777 - val_accuracy: 0.8307\n",
            "Epoch 87/100\n",
            "108/108 [==============================] - 106s 982ms/step - loss: 0.0089 - accuracy: 0.9952 - val_loss: 1.2542 - val_accuracy: 0.7953\n",
            "Epoch 88/100\n",
            "108/108 [==============================] - 106s 979ms/step - loss: 0.0084 - accuracy: 0.9964 - val_loss: 1.1860 - val_accuracy: 0.8215\n",
            "Epoch 89/100\n",
            "108/108 [==============================] - 107s 990ms/step - loss: 0.0097 - accuracy: 0.9947 - val_loss: 1.2132 - val_accuracy: 0.8189\n",
            "Epoch 90/100\n",
            "108/108 [==============================] - 107s 989ms/step - loss: 0.0112 - accuracy: 0.9946 - val_loss: 1.1355 - val_accuracy: 0.8268\n",
            "Epoch 91/100\n",
            "108/108 [==============================] - 107s 991ms/step - loss: 0.0131 - accuracy: 0.9946 - val_loss: 1.1819 - val_accuracy: 0.8176\n",
            "Epoch 92/100\n",
            "108/108 [==============================] - 106s 979ms/step - loss: 0.0115 - accuracy: 0.9946 - val_loss: 1.1746 - val_accuracy: 0.8307\n",
            "Epoch 93/100\n",
            "108/108 [==============================] - 107s 991ms/step - loss: 0.0115 - accuracy: 0.9939 - val_loss: 1.1417 - val_accuracy: 0.8241\n",
            "Epoch 94/100\n",
            "108/108 [==============================] - 107s 993ms/step - loss: 0.0101 - accuracy: 0.9953 - val_loss: 1.1713 - val_accuracy: 0.8163\n",
            "Epoch 95/100\n",
            "108/108 [==============================] - 107s 990ms/step - loss: 0.0074 - accuracy: 0.9958 - val_loss: 1.1675 - val_accuracy: 0.8294\n",
            "Epoch 96/100\n",
            "108/108 [==============================] - 106s 980ms/step - loss: 0.0097 - accuracy: 0.9953 - val_loss: 1.2202 - val_accuracy: 0.8136\n",
            "Epoch 97/100\n",
            "108/108 [==============================] - 107s 990ms/step - loss: 0.0074 - accuracy: 0.9958 - val_loss: 1.2061 - val_accuracy: 0.8189\n",
            "Epoch 98/100\n",
            "108/108 [==============================] - 107s 991ms/step - loss: 0.0087 - accuracy: 0.9952 - val_loss: 1.1980 - val_accuracy: 0.8228\n",
            "Epoch 99/100\n",
            "108/108 [==============================] - 106s 981ms/step - loss: 0.0128 - accuracy: 0.9952 - val_loss: 1.2515 - val_accuracy: 0.8018\n",
            "Epoch 100/100\n",
            "108/108 [==============================] - 106s 984ms/step - loss: 0.0078 - accuracy: 0.9959 - val_loss: 1.2267 - val_accuracy: 0.8202\n"
          ]
        }
      ]
    },
    {
      "cell_type": "markdown",
      "source": [
        "####Save the Model\n",
        "\n"
      ],
      "metadata": {
        "id": "gG7xw_F4sTs7"
      }
    },
    {
      "cell_type": "code",
      "source": [
        "model.save('/content/drive/My Drive/ucla.edu_folder/Disaster_Tweets/disaster_tweets_model.keras', save_format=\"keras\")"
      ],
      "metadata": {
        "id": "L2p0Xtiusj-O"
      },
      "execution_count": 15,
      "outputs": []
    },
    {
      "cell_type": "markdown",
      "source": [
        "#### Plot Training Accuracy / Loss"
      ],
      "metadata": {
        "id": "hsFyyz_iSn4m"
      }
    },
    {
      "cell_type": "code",
      "source": [
        "loss = history.history['loss']\n",
        "val_loss = history.history['val_loss']\n",
        "acc = history.history['accuracy']\n",
        "val_acc = history.history['val_accuracy']"
      ],
      "metadata": {
        "id": "A4lyo6BDuqPh"
      },
      "execution_count": null,
      "outputs": []
    },
    {
      "cell_type": "code",
      "source": [
        "def plot_train_loss_and_accuracy(train_loss, train_accuracy):\n",
        "    # Create a figure with Plotly\n",
        "    fig = go.Figure()\n",
        "\n",
        "    # Add traces for training loss and accuracy\n",
        "    fig.add_trace(go.Scatter(x=list(range(1, len(train_loss) + 1)), y=train_loss, mode='lines', name='Training Loss', yaxis='y1'))\n",
        "    fig.add_trace(go.Scatter(x=list(range(1, len(train_accuracy) + 1)), y=train_accuracy, mode='lines', name='Training Accuracy', yaxis='y2'))\n",
        "\n",
        "    # Update layout and labels\n",
        "    fig.update_layout(title='Training Loss and Accuracy vs. Epochs',\n",
        "                      xaxis=dict(title='Epochs'),\n",
        "                      yaxis=dict(title='Training Loss', side='left', showgrid=False),\n",
        "                      yaxis2=dict(title='Training Accuracy', side='right', overlaying='y', showgrid=False))\n",
        "\n",
        "    fig.show()\n",
        "\n",
        "plot_train_loss_and_accuracy(loss, acc)"
      ],
      "metadata": {
        "id": "4rOXliuhRxP0",
        "colab": {
          "base_uri": "https://localhost:8080/",
          "height": 542
        },
        "outputId": "01552459-9ffe-4e3c-aea9-09904ce781f6"
      },
      "execution_count": null,
      "outputs": [
        {
          "output_type": "display_data",
          "data": {
            "text/html": [
              "<html>\n",
              "<head><meta charset=\"utf-8\" /></head>\n",
              "<body>\n",
              "    <div>            <script src=\"https://cdnjs.cloudflare.com/ajax/libs/mathjax/2.7.5/MathJax.js?config=TeX-AMS-MML_SVG\"></script><script type=\"text/javascript\">if (window.MathJax && window.MathJax.Hub && window.MathJax.Hub.Config) {window.MathJax.Hub.Config({SVG: {font: \"STIX-Web\"}});}</script>                <script type=\"text/javascript\">window.PlotlyConfig = {MathJaxConfig: 'local'};</script>\n",
              "        <script charset=\"utf-8\" src=\"https://cdn.plot.ly/plotly-2.35.2.min.js\"></script>                <div id=\"c2c2f84a-dcfc-43e1-bddc-f39979dc54cc\" class=\"plotly-graph-div\" style=\"height:525px; width:100%;\"></div>            <script type=\"text/javascript\">                                    window.PLOTLYENV=window.PLOTLYENV || {};                                    if (document.getElementById(\"c2c2f84a-dcfc-43e1-bddc-f39979dc54cc\")) {                    Plotly.newPlot(                        \"c2c2f84a-dcfc-43e1-bddc-f39979dc54cc\",                        [{\"mode\":\"lines\",\"name\":\"Training Loss\",\"x\":[1,2,3,4,5,6,7,8,9,10,11,12,13,14,15,16,17,18,19,20,21,22,23,24,25,26,27,28,29,30,31,32,33,34,35,36,37,38,39,40,41,42,43,44,45,46,47,48,49,50,51,52,53,54,55,56,57,58,59,60,61,62,63,64,65,66,67,68,69,70,71,72,73,74,75,76,77,78,79,80,81,82,83,84,85,86,87,88,89,90,91,92,93,94,95,96,97,98,99,100],\"y\":[0.5483245253562927,0.42091843485832214,0.3738768696784973,0.33489149808883667,0.304542601108551,0.276679664850235,0.24707795679569244,0.21877960860729218,0.1940559297800064,0.17230930924415588,0.15855374932289124,0.13934621214866638,0.12294577062129974,0.11049184948205948,0.09746644645929337,0.09259013831615448,0.07522333413362503,0.0654730498790741,0.06595242768526077,0.06252097338438034,0.05455762892961502,0.052528832107782364,0.045874301344156265,0.04122206196188927,0.04269277676939964,0.03940868377685547,0.03272093087434769,0.03307076543569565,0.0313117615878582,0.03018536977469921,0.026964200660586357,0.029327288269996643,0.028900472447276115,0.02619841694831848,0.018003132194280624,0.01992935501039028,0.016315344721078873,0.026179783046245575,0.01781390979886055,0.019185032695531845,0.017972130328416824,0.019672604277729988,0.019341975450515747,0.015924371778964996,0.01765621267259121,0.01466292329132557,0.014453869313001633,0.016723673790693283,0.011053485795855522,0.012898539192974567,0.021655665710568428,0.012863564305007458,0.01623605005443096,0.015260844491422176,0.01525901723653078,0.01541128195822239,0.011720995418727398,0.011223366484045982,0.01044757291674614,0.02277238294482231,0.011366755701601505,0.01281011663377285,0.015274600125849247,0.018026340752840042,0.014313416555523872,0.01149850245565176,0.011241494677960873,0.012646151706576347,0.01394478790462017,0.010682661086320877,0.012417440302670002,0.009743969887495041,0.0075679668225348,0.009290403686463833,0.015967100858688354,0.013152338564395905,0.01175338588654995,0.008116994984447956,0.008320122957229614,0.009098879992961884,0.013359258882701397,0.0128713333979249,0.010631508193910122,0.009411306120455265,0.00831170566380024,0.007243870757520199,0.008927029557526112,0.008406536653637886,0.009742066264152527,0.011221346445381641,0.013149550184607506,0.011486123315989971,0.01149033848196268,0.010134266689419746,0.0073543996550142765,0.009746928699314594,0.007439353968948126,0.008685765787959099,0.012835891917347908,0.007823867723345757],\"yaxis\":\"y\",\"type\":\"scatter\"},{\"mode\":\"lines\",\"name\":\"Training Accuracy\",\"x\":[1,2,3,4,5,6,7,8,9,10,11,12,13,14,15,16,17,18,19,20,21,22,23,24,25,26,27,28,29,30,31,32,33,34,35,36,37,38,39,40,41,42,43,44,45,46,47,48,49,50,51,52,53,54,55,56,57,58,59,60,61,62,63,64,65,66,67,68,69,70,71,72,73,74,75,76,77,78,79,80,81,82,83,84,85,86,87,88,89,90,91,92,93,94,95,96,97,98,99,100],\"y\":[0.736534833908081,0.8244051933288574,0.8483433127403259,0.8719894886016846,0.8846883773803711,0.9004524946212769,0.9138811826705933,0.9264340996742249,0.9341701865196228,0.9438038468360901,0.9494964480400085,0.9553349614143372,0.9602977633476257,0.96321702003479,0.9674500226974487,0.9681798219680786,0.9743103384971619,0.9795650243759155,0.9762078523635864,0.9797109961509705,0.9814625382423401,0.981608510017395,0.9836519956588745,0.9867172837257385,0.9842358827590942,0.9874470829963684,0.9884688258171082,0.9881768822669983,0.9881768822669983,0.9881768822669983,0.9891986846923828,0.988906741142273,0.9886147975921631,0.9903663992881775,0.9931396842002869,0.992409884929657,0.9948912858963013,0.989344596862793,0.992409884929657,0.9921179413795471,0.9934316277503967,0.9915340542793274,0.9916800260543823,0.9935775995254517,0.9934316277503967,0.9948912858963013,0.9937235713005066,0.9937235713005066,0.9950371980667114,0.9944533705711365,0.9935775995254517,0.9948912858963013,0.9932856559753418,0.9937235713005066,0.9941614270210266,0.9940154552459717,0.9956210851669312,0.9938694834709167,0.9951831698417664,0.9896365404129028,0.9954751133918762,0.9938694834709167,0.992409884929657,0.9932856559753418,0.9943073987960815,0.9953291416168213,0.9950371980667114,0.9944533705711365,0.9941614270210266,0.9948912858963013,0.9951831698417664,0.995913028717041,0.9962049126625061,0.9951831698417664,0.9934316277503967,0.9943073987960815,0.9941614270210266,0.9960589408874512,0.9954751133918762,0.9948912858963013,0.9948912858963013,0.9950371980667114,0.9944533705711365,0.9954751133918762,0.995913028717041,0.9954751133918762,0.9951831698417664,0.996350884437561,0.9947453141212463,0.9945993423461914,0.9945993423461914,0.9945993423461914,0.9938694834709167,0.9953291416168213,0.9957670569419861,0.9953291416168213,0.9957670569419861,0.9951831698417664,0.9951831698417664,0.995913028717041],\"yaxis\":\"y2\",\"type\":\"scatter\"}],                        {\"template\":{\"data\":{\"histogram2dcontour\":[{\"type\":\"histogram2dcontour\",\"colorbar\":{\"outlinewidth\":0,\"ticks\":\"\"},\"colorscale\":[[0.0,\"#0d0887\"],[0.1111111111111111,\"#46039f\"],[0.2222222222222222,\"#7201a8\"],[0.3333333333333333,\"#9c179e\"],[0.4444444444444444,\"#bd3786\"],[0.5555555555555556,\"#d8576b\"],[0.6666666666666666,\"#ed7953\"],[0.7777777777777778,\"#fb9f3a\"],[0.8888888888888888,\"#fdca26\"],[1.0,\"#f0f921\"]]}],\"choropleth\":[{\"type\":\"choropleth\",\"colorbar\":{\"outlinewidth\":0,\"ticks\":\"\"}}],\"histogram2d\":[{\"type\":\"histogram2d\",\"colorbar\":{\"outlinewidth\":0,\"ticks\":\"\"},\"colorscale\":[[0.0,\"#0d0887\"],[0.1111111111111111,\"#46039f\"],[0.2222222222222222,\"#7201a8\"],[0.3333333333333333,\"#9c179e\"],[0.4444444444444444,\"#bd3786\"],[0.5555555555555556,\"#d8576b\"],[0.6666666666666666,\"#ed7953\"],[0.7777777777777778,\"#fb9f3a\"],[0.8888888888888888,\"#fdca26\"],[1.0,\"#f0f921\"]]}],\"heatmap\":[{\"type\":\"heatmap\",\"colorbar\":{\"outlinewidth\":0,\"ticks\":\"\"},\"colorscale\":[[0.0,\"#0d0887\"],[0.1111111111111111,\"#46039f\"],[0.2222222222222222,\"#7201a8\"],[0.3333333333333333,\"#9c179e\"],[0.4444444444444444,\"#bd3786\"],[0.5555555555555556,\"#d8576b\"],[0.6666666666666666,\"#ed7953\"],[0.7777777777777778,\"#fb9f3a\"],[0.8888888888888888,\"#fdca26\"],[1.0,\"#f0f921\"]]}],\"heatmapgl\":[{\"type\":\"heatmapgl\",\"colorbar\":{\"outlinewidth\":0,\"ticks\":\"\"},\"colorscale\":[[0.0,\"#0d0887\"],[0.1111111111111111,\"#46039f\"],[0.2222222222222222,\"#7201a8\"],[0.3333333333333333,\"#9c179e\"],[0.4444444444444444,\"#bd3786\"],[0.5555555555555556,\"#d8576b\"],[0.6666666666666666,\"#ed7953\"],[0.7777777777777778,\"#fb9f3a\"],[0.8888888888888888,\"#fdca26\"],[1.0,\"#f0f921\"]]}],\"contourcarpet\":[{\"type\":\"contourcarpet\",\"colorbar\":{\"outlinewidth\":0,\"ticks\":\"\"}}],\"contour\":[{\"type\":\"contour\",\"colorbar\":{\"outlinewidth\":0,\"ticks\":\"\"},\"colorscale\":[[0.0,\"#0d0887\"],[0.1111111111111111,\"#46039f\"],[0.2222222222222222,\"#7201a8\"],[0.3333333333333333,\"#9c179e\"],[0.4444444444444444,\"#bd3786\"],[0.5555555555555556,\"#d8576b\"],[0.6666666666666666,\"#ed7953\"],[0.7777777777777778,\"#fb9f3a\"],[0.8888888888888888,\"#fdca26\"],[1.0,\"#f0f921\"]]}],\"surface\":[{\"type\":\"surface\",\"colorbar\":{\"outlinewidth\":0,\"ticks\":\"\"},\"colorscale\":[[0.0,\"#0d0887\"],[0.1111111111111111,\"#46039f\"],[0.2222222222222222,\"#7201a8\"],[0.3333333333333333,\"#9c179e\"],[0.4444444444444444,\"#bd3786\"],[0.5555555555555556,\"#d8576b\"],[0.6666666666666666,\"#ed7953\"],[0.7777777777777778,\"#fb9f3a\"],[0.8888888888888888,\"#fdca26\"],[1.0,\"#f0f921\"]]}],\"mesh3d\":[{\"type\":\"mesh3d\",\"colorbar\":{\"outlinewidth\":0,\"ticks\":\"\"}}],\"scatter\":[{\"fillpattern\":{\"fillmode\":\"overlay\",\"size\":10,\"solidity\":0.2},\"type\":\"scatter\"}],\"parcoords\":[{\"type\":\"parcoords\",\"line\":{\"colorbar\":{\"outlinewidth\":0,\"ticks\":\"\"}}}],\"scatterpolargl\":[{\"type\":\"scatterpolargl\",\"marker\":{\"colorbar\":{\"outlinewidth\":0,\"ticks\":\"\"}}}],\"bar\":[{\"error_x\":{\"color\":\"#2a3f5f\"},\"error_y\":{\"color\":\"#2a3f5f\"},\"marker\":{\"line\":{\"color\":\"#E5ECF6\",\"width\":0.5},\"pattern\":{\"fillmode\":\"overlay\",\"size\":10,\"solidity\":0.2}},\"type\":\"bar\"}],\"scattergeo\":[{\"type\":\"scattergeo\",\"marker\":{\"colorbar\":{\"outlinewidth\":0,\"ticks\":\"\"}}}],\"scatterpolar\":[{\"type\":\"scatterpolar\",\"marker\":{\"colorbar\":{\"outlinewidth\":0,\"ticks\":\"\"}}}],\"histogram\":[{\"marker\":{\"pattern\":{\"fillmode\":\"overlay\",\"size\":10,\"solidity\":0.2}},\"type\":\"histogram\"}],\"scattergl\":[{\"type\":\"scattergl\",\"marker\":{\"colorbar\":{\"outlinewidth\":0,\"ticks\":\"\"}}}],\"scatter3d\":[{\"type\":\"scatter3d\",\"line\":{\"colorbar\":{\"outlinewidth\":0,\"ticks\":\"\"}},\"marker\":{\"colorbar\":{\"outlinewidth\":0,\"ticks\":\"\"}}}],\"scattermapbox\":[{\"type\":\"scattermapbox\",\"marker\":{\"colorbar\":{\"outlinewidth\":0,\"ticks\":\"\"}}}],\"scatterternary\":[{\"type\":\"scatterternary\",\"marker\":{\"colorbar\":{\"outlinewidth\":0,\"ticks\":\"\"}}}],\"scattercarpet\":[{\"type\":\"scattercarpet\",\"marker\":{\"colorbar\":{\"outlinewidth\":0,\"ticks\":\"\"}}}],\"carpet\":[{\"aaxis\":{\"endlinecolor\":\"#2a3f5f\",\"gridcolor\":\"white\",\"linecolor\":\"white\",\"minorgridcolor\":\"white\",\"startlinecolor\":\"#2a3f5f\"},\"baxis\":{\"endlinecolor\":\"#2a3f5f\",\"gridcolor\":\"white\",\"linecolor\":\"white\",\"minorgridcolor\":\"white\",\"startlinecolor\":\"#2a3f5f\"},\"type\":\"carpet\"}],\"table\":[{\"cells\":{\"fill\":{\"color\":\"#EBF0F8\"},\"line\":{\"color\":\"white\"}},\"header\":{\"fill\":{\"color\":\"#C8D4E3\"},\"line\":{\"color\":\"white\"}},\"type\":\"table\"}],\"barpolar\":[{\"marker\":{\"line\":{\"color\":\"#E5ECF6\",\"width\":0.5},\"pattern\":{\"fillmode\":\"overlay\",\"size\":10,\"solidity\":0.2}},\"type\":\"barpolar\"}],\"pie\":[{\"automargin\":true,\"type\":\"pie\"}]},\"layout\":{\"autotypenumbers\":\"strict\",\"colorway\":[\"#636efa\",\"#EF553B\",\"#00cc96\",\"#ab63fa\",\"#FFA15A\",\"#19d3f3\",\"#FF6692\",\"#B6E880\",\"#FF97FF\",\"#FECB52\"],\"font\":{\"color\":\"#2a3f5f\"},\"hovermode\":\"closest\",\"hoverlabel\":{\"align\":\"left\"},\"paper_bgcolor\":\"white\",\"plot_bgcolor\":\"#E5ECF6\",\"polar\":{\"bgcolor\":\"#E5ECF6\",\"angularaxis\":{\"gridcolor\":\"white\",\"linecolor\":\"white\",\"ticks\":\"\"},\"radialaxis\":{\"gridcolor\":\"white\",\"linecolor\":\"white\",\"ticks\":\"\"}},\"ternary\":{\"bgcolor\":\"#E5ECF6\",\"aaxis\":{\"gridcolor\":\"white\",\"linecolor\":\"white\",\"ticks\":\"\"},\"baxis\":{\"gridcolor\":\"white\",\"linecolor\":\"white\",\"ticks\":\"\"},\"caxis\":{\"gridcolor\":\"white\",\"linecolor\":\"white\",\"ticks\":\"\"}},\"coloraxis\":{\"colorbar\":{\"outlinewidth\":0,\"ticks\":\"\"}},\"colorscale\":{\"sequential\":[[0.0,\"#0d0887\"],[0.1111111111111111,\"#46039f\"],[0.2222222222222222,\"#7201a8\"],[0.3333333333333333,\"#9c179e\"],[0.4444444444444444,\"#bd3786\"],[0.5555555555555556,\"#d8576b\"],[0.6666666666666666,\"#ed7953\"],[0.7777777777777778,\"#fb9f3a\"],[0.8888888888888888,\"#fdca26\"],[1.0,\"#f0f921\"]],\"sequentialminus\":[[0.0,\"#0d0887\"],[0.1111111111111111,\"#46039f\"],[0.2222222222222222,\"#7201a8\"],[0.3333333333333333,\"#9c179e\"],[0.4444444444444444,\"#bd3786\"],[0.5555555555555556,\"#d8576b\"],[0.6666666666666666,\"#ed7953\"],[0.7777777777777778,\"#fb9f3a\"],[0.8888888888888888,\"#fdca26\"],[1.0,\"#f0f921\"]],\"diverging\":[[0,\"#8e0152\"],[0.1,\"#c51b7d\"],[0.2,\"#de77ae\"],[0.3,\"#f1b6da\"],[0.4,\"#fde0ef\"],[0.5,\"#f7f7f7\"],[0.6,\"#e6f5d0\"],[0.7,\"#b8e186\"],[0.8,\"#7fbc41\"],[0.9,\"#4d9221\"],[1,\"#276419\"]]},\"xaxis\":{\"gridcolor\":\"white\",\"linecolor\":\"white\",\"ticks\":\"\",\"title\":{\"standoff\":15},\"zerolinecolor\":\"white\",\"automargin\":true,\"zerolinewidth\":2},\"yaxis\":{\"gridcolor\":\"white\",\"linecolor\":\"white\",\"ticks\":\"\",\"title\":{\"standoff\":15},\"zerolinecolor\":\"white\",\"automargin\":true,\"zerolinewidth\":2},\"scene\":{\"xaxis\":{\"backgroundcolor\":\"#E5ECF6\",\"gridcolor\":\"white\",\"linecolor\":\"white\",\"showbackground\":true,\"ticks\":\"\",\"zerolinecolor\":\"white\",\"gridwidth\":2},\"yaxis\":{\"backgroundcolor\":\"#E5ECF6\",\"gridcolor\":\"white\",\"linecolor\":\"white\",\"showbackground\":true,\"ticks\":\"\",\"zerolinecolor\":\"white\",\"gridwidth\":2},\"zaxis\":{\"backgroundcolor\":\"#E5ECF6\",\"gridcolor\":\"white\",\"linecolor\":\"white\",\"showbackground\":true,\"ticks\":\"\",\"zerolinecolor\":\"white\",\"gridwidth\":2}},\"shapedefaults\":{\"line\":{\"color\":\"#2a3f5f\"}},\"annotationdefaults\":{\"arrowcolor\":\"#2a3f5f\",\"arrowhead\":0,\"arrowwidth\":1},\"geo\":{\"bgcolor\":\"white\",\"landcolor\":\"#E5ECF6\",\"subunitcolor\":\"white\",\"showland\":true,\"showlakes\":true,\"lakecolor\":\"white\"},\"title\":{\"x\":0.05},\"mapbox\":{\"style\":\"light\"}}},\"yaxis\":{\"title\":{\"text\":\"Training Loss\"},\"side\":\"left\",\"showgrid\":false},\"yaxis2\":{\"title\":{\"text\":\"Training Accuracy\"},\"side\":\"right\",\"overlaying\":\"y\",\"showgrid\":false},\"title\":{\"text\":\"Training Loss and Accuracy vs. Epochs\"},\"xaxis\":{\"title\":{\"text\":\"Epochs\"}}},                        {\"responsive\": true}                    ).then(function(){\n",
              "                            \n",
              "var gd = document.getElementById('c2c2f84a-dcfc-43e1-bddc-f39979dc54cc');\n",
              "var x = new MutationObserver(function (mutations, observer) {{\n",
              "        var display = window.getComputedStyle(gd).display;\n",
              "        if (!display || display === 'none') {{\n",
              "            console.log([gd, 'removed!']);\n",
              "            Plotly.purge(gd);\n",
              "            observer.disconnect();\n",
              "        }}\n",
              "}});\n",
              "\n",
              "// Listen for the removal of the full notebook cells\n",
              "var notebookContainer = gd.closest('#notebook-container');\n",
              "if (notebookContainer) {{\n",
              "    x.observe(notebookContainer, {childList: true});\n",
              "}}\n",
              "\n",
              "// Listen for the clearing of the current output cell\n",
              "var outputEl = gd.closest('.output');\n",
              "if (outputEl) {{\n",
              "    x.observe(outputEl, {childList: true});\n",
              "}}\n",
              "\n",
              "                        })                };                            </script>        </div>\n",
              "</body>\n",
              "</html>"
            ]
          },
          "metadata": {}
        }
      ]
    },
    {
      "cell_type": "markdown",
      "source": [
        "Notice that the validation loss increases over time, and the validation accuracy decreases over time. Both the accuracy and loss seem to be unstable. There appears to be overfitting in this model. Changing the learning rate and or employing early stopping techniques may improve this model."
      ],
      "metadata": {
        "id": "ozf1uwg39utq"
      }
    },
    {
      "cell_type": "code",
      "source": [
        "def plot_valid_loss_and_accuracy(val_loss, val_accuracy):\n",
        "    # Create a figure with Plotly\n",
        "    fig = go.Figure()\n",
        "\n",
        "    # Add traces for validation loss and accuracy\n",
        "    fig.add_trace(go.Scatter(x=list(range(1, len(val_loss) + 1)), y=val_loss, mode='lines', name='Validation Loss', yaxis='y1'))\n",
        "    fig.add_trace(go.Scatter(x=list(range(1, len(val_accuracy) + 1)), y=val_accuracy, mode='lines', name='Validation Accuracy', yaxis='y2'))\n",
        "\n",
        "    # Update layout and labels\n",
        "    fig.update_layout(title='Validation Loss and Accuracy vs. Epochs',\n",
        "                      xaxis=dict(title='Epochs'),\n",
        "                      yaxis=dict(title='Validation Loss', side='left', showgrid=False),\n",
        "                      yaxis2=dict(title='Validation Accuracy', side='right', overlaying='y', showgrid=False))\n",
        "\n",
        "    fig.show()\n",
        "\n",
        "plot_valid_loss_and_accuracy(val_loss, val_acc)"
      ],
      "metadata": {
        "id": "qfXnLijNYZ1z",
        "colab": {
          "base_uri": "https://localhost:8080/",
          "height": 542
        },
        "outputId": "0d9526ed-81fb-4c09-fa85-916b01f12d22"
      },
      "execution_count": null,
      "outputs": [
        {
          "output_type": "display_data",
          "data": {
            "text/html": [
              "<html>\n",
              "<head><meta charset=\"utf-8\" /></head>\n",
              "<body>\n",
              "    <div>            <script src=\"https://cdnjs.cloudflare.com/ajax/libs/mathjax/2.7.5/MathJax.js?config=TeX-AMS-MML_SVG\"></script><script type=\"text/javascript\">if (window.MathJax && window.MathJax.Hub && window.MathJax.Hub.Config) {window.MathJax.Hub.Config({SVG: {font: \"STIX-Web\"}});}</script>                <script type=\"text/javascript\">window.PlotlyConfig = {MathJaxConfig: 'local'};</script>\n",
              "        <script charset=\"utf-8\" src=\"https://cdn.plot.ly/plotly-2.35.2.min.js\"></script>                <div id=\"e87cb406-7625-4896-8093-705abe4587fd\" class=\"plotly-graph-div\" style=\"height:525px; width:100%;\"></div>            <script type=\"text/javascript\">                                    window.PLOTLYENV=window.PLOTLYENV || {};                                    if (document.getElementById(\"e87cb406-7625-4896-8093-705abe4587fd\")) {                    Plotly.newPlot(                        \"e87cb406-7625-4896-8093-705abe4587fd\",                        [{\"mode\":\"lines\",\"name\":\"Validation Loss\",\"x\":[1,2,3,4,5,6,7,8,9,10,11,12,13,14,15,16,17,18,19,20,21,22,23,24,25,26,27,28,29,30,31,32,33,34,35,36,37,38,39,40,41,42,43,44,45,46,47,48,49,50,51,52,53,54,55,56,57,58,59,60,61,62,63,64,65,66,67,68,69,70,71,72,73,74,75,76,77,78,79,80,81,82,83,84,85,86,87,88,89,90,91,92,93,94,95,96,97,98,99,100],\"y\":[0.4349394142627716,0.3928895592689514,0.38638898730278015,0.41443100571632385,0.4236603081226349,0.41542381048202515,0.43336814641952515,0.45479950308799744,0.4702664613723755,0.5138124227523804,0.5397164821624756,0.5686948299407959,0.6047637462615967,0.6110795140266418,0.6372151970863342,0.6630789041519165,0.6884970664978027,0.7352378964424133,0.760230302810669,0.7800653576850891,0.777593731880188,0.7640349864959717,0.7809510827064514,0.8037423491477966,0.8019481301307678,0.779798150062561,0.8579772710800171,0.8775821328163147,0.8591930270195007,0.8913599848747253,0.9165810942649841,0.9422188401222229,0.9039803147315979,0.9165040850639343,0.9184326529502869,0.9411958456039429,0.9481564164161682,0.9310805201530457,0.9728232026100159,0.963806688785553,0.9948574304580688,0.919349730014801,0.9428499341011047,1.0883852243423462,0.9732049107551575,0.9897180795669556,1.015641212463379,1.0091361999511719,1.0646693706512451,1.048505425453186,1.0507827997207642,1.038100004196167,1.0539476871490479,1.0803868770599365,1.2967931032180786,1.084763526916504,1.0874110460281372,1.1141656637191772,1.1187437772750854,1.0752235651016235,1.1571135520935059,1.1207935810089111,1.2204108238220215,1.139136552810669,1.1301883459091187,1.1969114542007446,1.1788487434387207,1.1144750118255615,1.1936486959457397,1.0697021484375,1.1035622358322144,1.1258395910263062,1.131034255027771,1.1962864398956299,1.071629285812378,1.187200665473938,1.152995228767395,1.2253977060317993,1.1771677732467651,1.2196787595748901,1.2642580270767212,1.1585246324539185,1.123587965965271,1.1623440980911255,1.157527208328247,1.1777414083480835,1.2541691064834595,1.1860333681106567,1.2132374048233032,1.135522484779358,1.1818722486495972,1.1746304035186768,1.1416983604431152,1.171290397644043,1.1674550771713257,1.2202270030975342,1.2061306238174438,1.1980483531951904,1.2514678239822388,1.2266682386398315],\"yaxis\":\"y\",\"type\":\"scatter\"},{\"mode\":\"lines\",\"name\":\"Validation Accuracy\",\"x\":[1,2,3,4,5,6,7,8,9,10,11,12,13,14,15,16,17,18,19,20,21,22,23,24,25,26,27,28,29,30,31,32,33,34,35,36,37,38,39,40,41,42,43,44,45,46,47,48,49,50,51,52,53,54,55,56,57,58,59,60,61,62,63,64,65,66,67,68,69,70,71,72,73,74,75,76,77,78,79,80,81,82,83,84,85,86,87,88,89,90,91,92,93,94,95,96,97,98,99,100],\"y\":[0.8293963074684143,0.8320209980010986,0.8359580039978027,0.817585289478302,0.8254593014717102,0.8425197005271912,0.8359580039978027,0.8372703194618225,0.8280839920043945,0.8097112774848938,0.8307086825370789,0.8149606585502625,0.8057742714881897,0.8136482834815979,0.8070865869522095,0.8044619560241699,0.8057742714881897,0.808398962020874,0.8097112774848938,0.8044619560241699,0.8188976645469666,0.8215222954750061,0.817585289478302,0.8162729740142822,0.808398962020874,0.817585289478302,0.7979002594947815,0.8044619560241699,0.8097112774848938,0.8057742714881897,0.8057742714881897,0.8031495809555054,0.8149606585502625,0.8188976645469666,0.8202099800109863,0.8110235929489136,0.8057742714881897,0.8097112774848938,0.8070865869522095,0.8070865869522095,0.8018372654914856,0.8228346705436707,0.8228346705436707,0.7992125749588013,0.8293963074684143,0.8254593014717102,0.8136482834815979,0.8162729740142822,0.8097112774848938,0.8241469860076904,0.8110235929489136,0.8162729740142822,0.8031495809555054,0.8097112774848938,0.7532808184623718,0.8018372654914856,0.8149606585502625,0.8070865869522095,0.808398962020874,0.8097112774848938,0.7952755689620972,0.8188976645469666,0.7821522355079651,0.7965879440307617,0.8110235929489136,0.7992125749588013,0.7979002594947815,0.8123359680175781,0.7926509380340576,0.8228346705436707,0.8215222954750061,0.8162729740142822,0.8228346705436707,0.7992125749588013,0.8320209980010986,0.8018372654914856,0.8070865869522095,0.7992125749588013,0.8162729740142822,0.7979002594947815,0.7847769260406494,0.8044619560241699,0.8149606585502625,0.8149606585502625,0.8241469860076904,0.8307086825370789,0.7952755689620972,0.8215222954750061,0.8188976645469666,0.8267716765403748,0.817585289478302,0.8307086825370789,0.8241469860076904,0.8162729740142822,0.8293963074684143,0.8136482834815979,0.8188976645469666,0.8228346705436707,0.8018372654914856,0.8202099800109863],\"yaxis\":\"y2\",\"type\":\"scatter\"}],                        {\"template\":{\"data\":{\"histogram2dcontour\":[{\"type\":\"histogram2dcontour\",\"colorbar\":{\"outlinewidth\":0,\"ticks\":\"\"},\"colorscale\":[[0.0,\"#0d0887\"],[0.1111111111111111,\"#46039f\"],[0.2222222222222222,\"#7201a8\"],[0.3333333333333333,\"#9c179e\"],[0.4444444444444444,\"#bd3786\"],[0.5555555555555556,\"#d8576b\"],[0.6666666666666666,\"#ed7953\"],[0.7777777777777778,\"#fb9f3a\"],[0.8888888888888888,\"#fdca26\"],[1.0,\"#f0f921\"]]}],\"choropleth\":[{\"type\":\"choropleth\",\"colorbar\":{\"outlinewidth\":0,\"ticks\":\"\"}}],\"histogram2d\":[{\"type\":\"histogram2d\",\"colorbar\":{\"outlinewidth\":0,\"ticks\":\"\"},\"colorscale\":[[0.0,\"#0d0887\"],[0.1111111111111111,\"#46039f\"],[0.2222222222222222,\"#7201a8\"],[0.3333333333333333,\"#9c179e\"],[0.4444444444444444,\"#bd3786\"],[0.5555555555555556,\"#d8576b\"],[0.6666666666666666,\"#ed7953\"],[0.7777777777777778,\"#fb9f3a\"],[0.8888888888888888,\"#fdca26\"],[1.0,\"#f0f921\"]]}],\"heatmap\":[{\"type\":\"heatmap\",\"colorbar\":{\"outlinewidth\":0,\"ticks\":\"\"},\"colorscale\":[[0.0,\"#0d0887\"],[0.1111111111111111,\"#46039f\"],[0.2222222222222222,\"#7201a8\"],[0.3333333333333333,\"#9c179e\"],[0.4444444444444444,\"#bd3786\"],[0.5555555555555556,\"#d8576b\"],[0.6666666666666666,\"#ed7953\"],[0.7777777777777778,\"#fb9f3a\"],[0.8888888888888888,\"#fdca26\"],[1.0,\"#f0f921\"]]}],\"heatmapgl\":[{\"type\":\"heatmapgl\",\"colorbar\":{\"outlinewidth\":0,\"ticks\":\"\"},\"colorscale\":[[0.0,\"#0d0887\"],[0.1111111111111111,\"#46039f\"],[0.2222222222222222,\"#7201a8\"],[0.3333333333333333,\"#9c179e\"],[0.4444444444444444,\"#bd3786\"],[0.5555555555555556,\"#d8576b\"],[0.6666666666666666,\"#ed7953\"],[0.7777777777777778,\"#fb9f3a\"],[0.8888888888888888,\"#fdca26\"],[1.0,\"#f0f921\"]]}],\"contourcarpet\":[{\"type\":\"contourcarpet\",\"colorbar\":{\"outlinewidth\":0,\"ticks\":\"\"}}],\"contour\":[{\"type\":\"contour\",\"colorbar\":{\"outlinewidth\":0,\"ticks\":\"\"},\"colorscale\":[[0.0,\"#0d0887\"],[0.1111111111111111,\"#46039f\"],[0.2222222222222222,\"#7201a8\"],[0.3333333333333333,\"#9c179e\"],[0.4444444444444444,\"#bd3786\"],[0.5555555555555556,\"#d8576b\"],[0.6666666666666666,\"#ed7953\"],[0.7777777777777778,\"#fb9f3a\"],[0.8888888888888888,\"#fdca26\"],[1.0,\"#f0f921\"]]}],\"surface\":[{\"type\":\"surface\",\"colorbar\":{\"outlinewidth\":0,\"ticks\":\"\"},\"colorscale\":[[0.0,\"#0d0887\"],[0.1111111111111111,\"#46039f\"],[0.2222222222222222,\"#7201a8\"],[0.3333333333333333,\"#9c179e\"],[0.4444444444444444,\"#bd3786\"],[0.5555555555555556,\"#d8576b\"],[0.6666666666666666,\"#ed7953\"],[0.7777777777777778,\"#fb9f3a\"],[0.8888888888888888,\"#fdca26\"],[1.0,\"#f0f921\"]]}],\"mesh3d\":[{\"type\":\"mesh3d\",\"colorbar\":{\"outlinewidth\":0,\"ticks\":\"\"}}],\"scatter\":[{\"fillpattern\":{\"fillmode\":\"overlay\",\"size\":10,\"solidity\":0.2},\"type\":\"scatter\"}],\"parcoords\":[{\"type\":\"parcoords\",\"line\":{\"colorbar\":{\"outlinewidth\":0,\"ticks\":\"\"}}}],\"scatterpolargl\":[{\"type\":\"scatterpolargl\",\"marker\":{\"colorbar\":{\"outlinewidth\":0,\"ticks\":\"\"}}}],\"bar\":[{\"error_x\":{\"color\":\"#2a3f5f\"},\"error_y\":{\"color\":\"#2a3f5f\"},\"marker\":{\"line\":{\"color\":\"#E5ECF6\",\"width\":0.5},\"pattern\":{\"fillmode\":\"overlay\",\"size\":10,\"solidity\":0.2}},\"type\":\"bar\"}],\"scattergeo\":[{\"type\":\"scattergeo\",\"marker\":{\"colorbar\":{\"outlinewidth\":0,\"ticks\":\"\"}}}],\"scatterpolar\":[{\"type\":\"scatterpolar\",\"marker\":{\"colorbar\":{\"outlinewidth\":0,\"ticks\":\"\"}}}],\"histogram\":[{\"marker\":{\"pattern\":{\"fillmode\":\"overlay\",\"size\":10,\"solidity\":0.2}},\"type\":\"histogram\"}],\"scattergl\":[{\"type\":\"scattergl\",\"marker\":{\"colorbar\":{\"outlinewidth\":0,\"ticks\":\"\"}}}],\"scatter3d\":[{\"type\":\"scatter3d\",\"line\":{\"colorbar\":{\"outlinewidth\":0,\"ticks\":\"\"}},\"marker\":{\"colorbar\":{\"outlinewidth\":0,\"ticks\":\"\"}}}],\"scattermapbox\":[{\"type\":\"scattermapbox\",\"marker\":{\"colorbar\":{\"outlinewidth\":0,\"ticks\":\"\"}}}],\"scatterternary\":[{\"type\":\"scatterternary\",\"marker\":{\"colorbar\":{\"outlinewidth\":0,\"ticks\":\"\"}}}],\"scattercarpet\":[{\"type\":\"scattercarpet\",\"marker\":{\"colorbar\":{\"outlinewidth\":0,\"ticks\":\"\"}}}],\"carpet\":[{\"aaxis\":{\"endlinecolor\":\"#2a3f5f\",\"gridcolor\":\"white\",\"linecolor\":\"white\",\"minorgridcolor\":\"white\",\"startlinecolor\":\"#2a3f5f\"},\"baxis\":{\"endlinecolor\":\"#2a3f5f\",\"gridcolor\":\"white\",\"linecolor\":\"white\",\"minorgridcolor\":\"white\",\"startlinecolor\":\"#2a3f5f\"},\"type\":\"carpet\"}],\"table\":[{\"cells\":{\"fill\":{\"color\":\"#EBF0F8\"},\"line\":{\"color\":\"white\"}},\"header\":{\"fill\":{\"color\":\"#C8D4E3\"},\"line\":{\"color\":\"white\"}},\"type\":\"table\"}],\"barpolar\":[{\"marker\":{\"line\":{\"color\":\"#E5ECF6\",\"width\":0.5},\"pattern\":{\"fillmode\":\"overlay\",\"size\":10,\"solidity\":0.2}},\"type\":\"barpolar\"}],\"pie\":[{\"automargin\":true,\"type\":\"pie\"}]},\"layout\":{\"autotypenumbers\":\"strict\",\"colorway\":[\"#636efa\",\"#EF553B\",\"#00cc96\",\"#ab63fa\",\"#FFA15A\",\"#19d3f3\",\"#FF6692\",\"#B6E880\",\"#FF97FF\",\"#FECB52\"],\"font\":{\"color\":\"#2a3f5f\"},\"hovermode\":\"closest\",\"hoverlabel\":{\"align\":\"left\"},\"paper_bgcolor\":\"white\",\"plot_bgcolor\":\"#E5ECF6\",\"polar\":{\"bgcolor\":\"#E5ECF6\",\"angularaxis\":{\"gridcolor\":\"white\",\"linecolor\":\"white\",\"ticks\":\"\"},\"radialaxis\":{\"gridcolor\":\"white\",\"linecolor\":\"white\",\"ticks\":\"\"}},\"ternary\":{\"bgcolor\":\"#E5ECF6\",\"aaxis\":{\"gridcolor\":\"white\",\"linecolor\":\"white\",\"ticks\":\"\"},\"baxis\":{\"gridcolor\":\"white\",\"linecolor\":\"white\",\"ticks\":\"\"},\"caxis\":{\"gridcolor\":\"white\",\"linecolor\":\"white\",\"ticks\":\"\"}},\"coloraxis\":{\"colorbar\":{\"outlinewidth\":0,\"ticks\":\"\"}},\"colorscale\":{\"sequential\":[[0.0,\"#0d0887\"],[0.1111111111111111,\"#46039f\"],[0.2222222222222222,\"#7201a8\"],[0.3333333333333333,\"#9c179e\"],[0.4444444444444444,\"#bd3786\"],[0.5555555555555556,\"#d8576b\"],[0.6666666666666666,\"#ed7953\"],[0.7777777777777778,\"#fb9f3a\"],[0.8888888888888888,\"#fdca26\"],[1.0,\"#f0f921\"]],\"sequentialminus\":[[0.0,\"#0d0887\"],[0.1111111111111111,\"#46039f\"],[0.2222222222222222,\"#7201a8\"],[0.3333333333333333,\"#9c179e\"],[0.4444444444444444,\"#bd3786\"],[0.5555555555555556,\"#d8576b\"],[0.6666666666666666,\"#ed7953\"],[0.7777777777777778,\"#fb9f3a\"],[0.8888888888888888,\"#fdca26\"],[1.0,\"#f0f921\"]],\"diverging\":[[0,\"#8e0152\"],[0.1,\"#c51b7d\"],[0.2,\"#de77ae\"],[0.3,\"#f1b6da\"],[0.4,\"#fde0ef\"],[0.5,\"#f7f7f7\"],[0.6,\"#e6f5d0\"],[0.7,\"#b8e186\"],[0.8,\"#7fbc41\"],[0.9,\"#4d9221\"],[1,\"#276419\"]]},\"xaxis\":{\"gridcolor\":\"white\",\"linecolor\":\"white\",\"ticks\":\"\",\"title\":{\"standoff\":15},\"zerolinecolor\":\"white\",\"automargin\":true,\"zerolinewidth\":2},\"yaxis\":{\"gridcolor\":\"white\",\"linecolor\":\"white\",\"ticks\":\"\",\"title\":{\"standoff\":15},\"zerolinecolor\":\"white\",\"automargin\":true,\"zerolinewidth\":2},\"scene\":{\"xaxis\":{\"backgroundcolor\":\"#E5ECF6\",\"gridcolor\":\"white\",\"linecolor\":\"white\",\"showbackground\":true,\"ticks\":\"\",\"zerolinecolor\":\"white\",\"gridwidth\":2},\"yaxis\":{\"backgroundcolor\":\"#E5ECF6\",\"gridcolor\":\"white\",\"linecolor\":\"white\",\"showbackground\":true,\"ticks\":\"\",\"zerolinecolor\":\"white\",\"gridwidth\":2},\"zaxis\":{\"backgroundcolor\":\"#E5ECF6\",\"gridcolor\":\"white\",\"linecolor\":\"white\",\"showbackground\":true,\"ticks\":\"\",\"zerolinecolor\":\"white\",\"gridwidth\":2}},\"shapedefaults\":{\"line\":{\"color\":\"#2a3f5f\"}},\"annotationdefaults\":{\"arrowcolor\":\"#2a3f5f\",\"arrowhead\":0,\"arrowwidth\":1},\"geo\":{\"bgcolor\":\"white\",\"landcolor\":\"#E5ECF6\",\"subunitcolor\":\"white\",\"showland\":true,\"showlakes\":true,\"lakecolor\":\"white\"},\"title\":{\"x\":0.05},\"mapbox\":{\"style\":\"light\"}}},\"yaxis\":{\"title\":{\"text\":\"Validation Loss\"},\"side\":\"left\",\"showgrid\":false},\"yaxis2\":{\"title\":{\"text\":\"Validation Accuracy\"},\"side\":\"right\",\"overlaying\":\"y\",\"showgrid\":false},\"title\":{\"text\":\"Validation Loss and Accuracy vs. Epochs\"},\"xaxis\":{\"title\":{\"text\":\"Epochs\"}}},                        {\"responsive\": true}                    ).then(function(){\n",
              "                            \n",
              "var gd = document.getElementById('e87cb406-7625-4896-8093-705abe4587fd');\n",
              "var x = new MutationObserver(function (mutations, observer) {{\n",
              "        var display = window.getComputedStyle(gd).display;\n",
              "        if (!display || display === 'none') {{\n",
              "            console.log([gd, 'removed!']);\n",
              "            Plotly.purge(gd);\n",
              "            observer.disconnect();\n",
              "        }}\n",
              "}});\n",
              "\n",
              "// Listen for the removal of the full notebook cells\n",
              "var notebookContainer = gd.closest('#notebook-container');\n",
              "if (notebookContainer) {{\n",
              "    x.observe(notebookContainer, {childList: true});\n",
              "}}\n",
              "\n",
              "// Listen for the clearing of the current output cell\n",
              "var outputEl = gd.closest('.output');\n",
              "if (outputEl) {{\n",
              "    x.observe(outputEl, {childList: true});\n",
              "}}\n",
              "\n",
              "                        })                };                            </script>        </div>\n",
              "</body>\n",
              "</html>"
            ]
          },
          "metadata": {}
        }
      ]
    }
  ],
  "metadata": {
    "accelerator": "GPU",
    "colab": {
      "provenance": []
    },
    "kernelspec": {
      "display_name": "Python 3",
      "name": "python3"
    },
    "language_info": {
      "name": "python"
    }
  },
  "nbformat": 4,
  "nbformat_minor": 0
}